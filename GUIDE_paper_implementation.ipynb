{
 "cells": [
  {
   "cell_type": "code",
   "execution_count": 16,
   "metadata": {},
   "outputs": [],
   "source": [
    "import pandas as pd\n",
    "import numpy as np\n",
    "import matplotlib.pyplot as plt\n",
    "import networkx as nx\n",
    "import pickle\n",
    "import torch"
   ]
  },
  {
   "cell_type": "code",
   "execution_count": 3,
   "metadata": {},
   "outputs": [],
   "source": [
    "input_data = pd.read_csv(\"aki_data/test_data.tsv\", sep=\"\\t\", )\n",
    "input_data_qm = pd.read_csv(\"aki_data/test_qm.csv\")\n",
    "translation = pd.read_csv(\"aki_data/translation.tsv\", sep=\"\\t\", index_col=0)\n",
    "pathways = pd.read_csv(\"aki_data/pathways.tsv\", sep=\"\\t\")\n",
    "design_matrix = pd.read_csv(\"aki_data/design_matrix.tsv\", sep=\"\\t\")\n",
    "input_data_preprocessed = input_data_qm.fillna(0)"
   ]
  },
  {
   "cell_type": "code",
   "execution_count": 4,
   "metadata": {},
   "outputs": [],
   "source": [
    "G = nx.DiGraph()\n",
    "for _, row in pathways.iterrows():\n",
    "    G.add_edge(row['parent'], row['child'])"
   ]
  },
  {
   "cell_type": "code",
   "execution_count": 10,
   "metadata": {},
   "outputs": [],
   "source": [
    "# intialize adjacency matrix\n",
    "unique_pathways = G.nodes\n",
    "unique_proteins = input_data_preprocessed['Protein']\n",
    "Ag = np.zeros((len(unique_proteins), len(unique_pathways)))\n",
    "\n",
    "# create dictionary of descendants\n",
    "descendants = {}\n",
    "for node in G.nodes():\n",
    "    descendants[node] = nx.descendants(G, node)\n",
    "\n",
    "for _, row in translation.iterrows():\n",
    "    protein = row['input']  \n",
    "    pathway = row['translation']\n",
    "    if pathway in G:\n",
    "        # Ensure the 'proteins' attribute exists for the pathway\n",
    "        G.nodes[pathway].setdefault('proteins', []).append(protein)\n",
    "\n",
    "        # Iterate through descendants and assign proteins\n",
    "        for descendant in nx.descendants(G, pathway):\n",
    "            G.nodes[descendant].setdefault('proteins', []).append(protein)\n",
    "\n",
    "# fill adjacency matrix with 1 if protein is in pathway\n",
    "# account also fot descendants\n",
    "for i, protein in enumerate(unique_proteins):\n",
    "    for j, pathway in enumerate(unique_pathways):\n",
    "        if protein in G.nodes[pathway].get('proteins', []):\n",
    "            Ag[i, j] = 1\n",
    "        else:\n",
    "            for descendant in descendants[pathway]:\n",
    "                if protein in G.nodes[descendant].get('proteins', []):\n",
    "                    Ag[i, j] = 1\n"
   ]
  },
  {
   "cell_type": "code",
   "execution_count": 15,
   "metadata": {},
   "outputs": [
    {
     "name": "stdout",
     "output_type": "stream",
     "text": [
      "[[0. 0. 0. 0. 0. 0. 0. 0. 0. 0.]\n",
      " [0. 0. 0. 0. 0. 1. 1. 0. 0. 0.]\n",
      " [0. 0. 0. 0. 0. 1. 1. 0. 0. 0.]\n",
      " [0. 0. 0. 0. 0. 0. 0. 0. 0. 0.]\n",
      " [0. 0. 0. 0. 0. 0. 0. 0. 0. 0.]\n",
      " [0. 0. 0. 0. 0. 1. 0. 1. 0. 0.]\n",
      " [0. 0. 0. 0. 0. 0. 0. 0. 0. 0.]\n",
      " [0. 0. 0. 0. 0. 0. 0. 0. 0. 0.]\n",
      " [0. 0. 0. 0. 0. 1. 0. 0. 0. 0.]\n",
      " [0. 0. 0. 0. 0. 0. 0. 0. 0. 0.]]\n"
     ]
    }
   ],
   "source": [
    "np.unique(Ag, return_counts=True)\n",
    "print(Ag[0:10, 0:10])"
   ]
  },
  {
   "cell_type": "code",
   "execution_count": null,
   "metadata": {},
   "outputs": [],
   "source": [
    "class GUIDEModel(torch.nn.Module):\n",
    "    def __init__(self, num_genes, num_processes, d):\n",
    "        super(GUIDEModel, self).__init__()\n",
    "        self.Wt = torch.nn.Parameter(torch.randn(num_genes, d))\n",
    "\n",
    "    def forward(self, gene_scores, Ag):\n",
    "        # gene_scores: Tensor of shape [num_genes, num_features]\n",
    "        # Ag: Adjacency matrix as a Tensor of shape [num_genes, num_processes]\n",
    "\n",
    "        # Projection\n",
    "        projected_scores = []\n",
    "        for t in range(Ag.shape[1]):  # Iterate over each process\n",
    "            mask = Ag[:, t].unsqueeze(1)  # [num_genes, 1]\n",
    "            Wt_masked = self.Wt * mask  # Element-wise multiplication\n",
    "            pn_t = F.prelu(torch.matmul(gene_scores.t(), Wt_masked))  # [1, d]\n",
    "            projected_scores.append(pn_t)\n",
    "\n",
    "        # Concatenate the projections for all processes\n",
    "        projection = torch.cat(projected_scores, dim=0)  # [num_processes, d]\n",
    "        return projection"
   ]
  }
 ],
 "metadata": {
  "kernelspec": {
   "display_name": "adlg",
   "language": "python",
   "name": "python3"
  },
  "language_info": {
   "codemirror_mode": {
    "name": "ipython",
    "version": 3
   },
   "file_extension": ".py",
   "mimetype": "text/x-python",
   "name": "python",
   "nbconvert_exporter": "python",
   "pygments_lexer": "ipython3",
   "version": "3.9.18"
  }
 },
 "nbformat": 4,
 "nbformat_minor": 2
}
