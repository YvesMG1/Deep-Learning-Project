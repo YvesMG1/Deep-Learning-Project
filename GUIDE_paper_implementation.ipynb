{
 "cells": [
  {
   "cell_type": "code",
   "execution_count": 2,
   "metadata": {},
   "outputs": [
    {
     "name": "stdout",
     "output_type": "stream",
     "text": [
      "Intel MKL WARNING: Support of Intel(R) Streaming SIMD Extensions 4.2 (Intel(R) SSE4.2) enabled only processors has been deprecated. Intel oneAPI Math Kernel Library 2025.0 will require Intel(R) Advanced Vector Extensions (Intel(R) AVX) instructions.\n",
      "Intel MKL WARNING: Support of Intel(R) Streaming SIMD Extensions 4.2 (Intel(R) SSE4.2) enabled only processors has been deprecated. Intel oneAPI Math Kernel Library 2025.0 will require Intel(R) Advanced Vector Extensions (Intel(R) AVX) instructions.\n"
     ]
    }
   ],
   "source": [
    "import pandas as pd\n",
    "import numpy as np\n",
    "import matplotlib.pyplot as plt\n",
    "import networkx as nx\n",
    "import pickle"
   ]
  },
  {
   "cell_type": "code",
   "execution_count": 3,
   "metadata": {},
   "outputs": [],
   "source": [
    "input_data = pd.read_csv(\"aki_data/test_data.tsv\", sep=\"\\t\", )\n",
    "input_data_qm = pd.read_csv(\"aki_data/test_qm.csv\")\n",
    "translation = pd.read_csv(\"aki_data/translation.tsv\", sep=\"\\t\", index_col=0)\n",
    "pathways = pd.read_csv(\"aki_data/pathways.tsv\", sep=\"\\t\")\n",
    "design_matrix = pd.read_csv(\"aki_data/design_matrix.tsv\", sep=\"\\t\")\n",
    "input_data_preprocessed = input_data_qm.fillna(0)"
   ]
  },
  {
   "cell_type": "code",
   "execution_count": 4,
   "metadata": {},
   "outputs": [],
   "source": [
    "G = nx.DiGraph()\n",
    "for _, row in pathways.iterrows():\n",
    "    G.add_edge(row['parent'], row['child'])"
   ]
  },
  {
   "cell_type": "code",
   "execution_count": 10,
   "metadata": {},
   "outputs": [],
   "source": [
    "# intialize adjacency matrix\n",
    "unique_pathways = G.nodes\n",
    "unique_proteins = input_data_preprocessed['Protein']\n",
    "Ag = np.zeros((len(unique_proteins), len(unique_pathways)))\n",
    "\n",
    "# create dictionary of descendants\n",
    "descendants = {}\n",
    "for node in G.nodes():\n",
    "    descendants[node] = nx.descendants(G, node)\n",
    "\n",
    "for _, row in translation.iterrows():\n",
    "    protein = row['input']  \n",
    "    pathway = row['translation']\n",
    "    if pathway in G:\n",
    "        # Ensure the 'proteins' attribute exists for the pathway\n",
    "        G.nodes[pathway].setdefault('proteins', []).append(protein)\n",
    "\n",
    "        # Iterate through descendants and assign proteins\n",
    "        for descendant in nx.descendants(G, pathway):\n",
    "            G.nodes[descendant].setdefault('proteins', []).append(protein)\n",
    "\n",
    "# fill adjacency matrix with 1 if protein is in pathway\n",
    "# account also fot descendants\n",
    "for i, protein in enumerate(unique_proteins):\n",
    "    for j, pathway in enumerate(unique_pathways):\n",
    "        if protein in G.nodes[pathway].get('proteins', []):\n",
    "            Ag[i, j] = 1\n",
    "        else:\n",
    "            for descendant in descendants[pathway]:\n",
    "                if protein in G.nodes[descendant].get('proteins', []):\n",
    "                    Ag[i, j] = 1\n"
   ]
  },
  {
   "cell_type": "code",
   "execution_count": 15,
   "metadata": {},
   "outputs": [
    {
     "name": "stdout",
     "output_type": "stream",
     "text": [
      "[[0. 0. 0. 0. 0. 0. 0. 0. 0. 0.]\n",
      " [0. 0. 0. 0. 0. 1. 1. 0. 0. 0.]\n",
      " [0. 0. 0. 0. 0. 1. 1. 0. 0. 0.]\n",
      " [0. 0. 0. 0. 0. 0. 0. 0. 0. 0.]\n",
      " [0. 0. 0. 0. 0. 0. 0. 0. 0. 0.]\n",
      " [0. 0. 0. 0. 0. 1. 0. 1. 0. 0.]\n",
      " [0. 0. 0. 0. 0. 0. 0. 0. 0. 0.]\n",
      " [0. 0. 0. 0. 0. 0. 0. 0. 0. 0.]\n",
      " [0. 0. 0. 0. 0. 1. 0. 0. 0. 0.]\n",
      " [0. 0. 0. 0. 0. 0. 0. 0. 0. 0.]]\n"
     ]
    }
   ],
   "source": [
    "np.unique(Ag, return_counts=True)\n",
    "print(Ag[0:10, 0:10])"
   ]
  }
 ],
 "metadata": {
  "kernelspec": {
   "display_name": "adlg",
   "language": "python",
   "name": "python3"
  },
  "language_info": {
   "codemirror_mode": {
    "name": "ipython",
    "version": 3
   },
   "file_extension": ".py",
   "mimetype": "text/x-python",
   "name": "python",
   "nbconvert_exporter": "python",
   "pygments_lexer": "ipython3",
   "version": "3.9.18"
  }
 },
 "nbformat": 4,
 "nbformat_minor": 2
}
