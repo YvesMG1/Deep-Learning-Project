{
 "cells": [
  {
   "cell_type": "code",
   "execution_count": 97,
   "metadata": {},
   "outputs": [],
   "source": [
    "from cust_functions.explain_helper import *\n",
    "import pandas as pd \n"
   ]
  },
  {
   "cell_type": "code",
   "execution_count": 98,
   "metadata": {},
   "outputs": [],
   "source": [
    "# ResGCN on AKI data\n",
    "Features_AKI_ResGCN = create_avg_sd_df('./explanations/AKI_ResGCN.pkl', True, True)\n",
    "Pathways_AKI_ResGCN = create_avg_sd_df('./explanations/AKI_ResGCN.pkl', False, True)\n",
    "Features_Pert_AKI_ResGCN = create_avg_sd_df('./explanations/Pert_AKI_ResGCN.pkl', True, True)\n",
    "Pathways_Pert_AKI_ResGCN = create_avg_sd_df('./explanations/Pert_AKI_ResGCN.pkl', False, True)\n",
    "\n",
    "# ResGCN on Covid data \n",
    "Features_Covid_ResGCN = create_avg_sd_df('./explanations/Covid_ResGCN.pkl', True, True)\n",
    "Pathways_Covid_ResGCN = create_avg_sd_df('./explanations/Covid_ResGCN.pkl', False, True)\n",
    "Features_Pert_Covid_ResGCN = create_avg_sd_df('./explanations/Pert_Covid_ResGCN.pkl', True, True)\n",
    "Pathways_Pert_Covid_ResGCN = create_avg_sd_df('./explanations/Pert_Covid_ResGCN.pkl', False, True)\n",
    "\n",
    "# ResGAT on AKI data\n",
    "Features_AKI_ResGAT = create_avg_sd_df('./explanations/AKI_ResGAT.pkl', True, True)\n",
    "Pathways_AKI_ResGAT = create_avg_sd_df('./explanations/AKI_ResGAT.pkl', False, True)\n",
    "\n",
    "# ResGAT on Covid data\n",
    "Features_Covid_ResGAT = create_avg_sd_df('./explanations/Covid_ResGAT.pkl', True, True)\n",
    "Pathways_Covid_ResGAT = create_avg_sd_df('./explanations/Covid_ResGAT.pkl', False, True)\n"
   ]
  },
  {
   "cell_type": "code",
   "execution_count": 99,
   "metadata": {},
   "outputs": [],
   "source": [
    "def common_features_nodes(df1 : pd.DataFrame, df2 : pd.DataFrame, protein : bool, out_of_top: int):\n",
    "\n",
    "    if protein:\n",
    "        protein_or_pathway = 'Protein'\n",
    "    else: \n",
    "        protein_or_pathway = 'Pathway'\n",
    "\n",
    "    merged_df = pd.merge(df1.head(out_of_top), df2.head(out_of_top), on=protein_or_pathway, how='inner')\n",
    "\n",
    "    return merged_df"
   ]
  },
  {
   "cell_type": "code",
   "execution_count": 100,
   "metadata": {},
   "outputs": [],
   "source": [
    "def overlap_matrix(list_of_scores : list, list_of_names : list, protein: bool, out_of_top: int):\n",
    "    Pairwise_matrix = pd.DataFrame(index=list_of_names, columns=list_of_names)\n",
    "\n",
    "    for i, df1 in enumerate(list_of_scores):\n",
    "        for j, df2 in enumerate(list_of_scores):\n",
    "            Pairwise_matrix.iloc[i,j] = len(common_features_nodes(df1, df2, protein, out_of_top))\n",
    "\n",
    "    return(Pairwise_matrix)"
   ]
  },
  {
   "attachments": {},
   "cell_type": "markdown",
   "metadata": {},
   "source": [
    "## 1. GNN versus GNN"
   ]
  },
  {
   "cell_type": "code",
   "execution_count": 101,
   "metadata": {},
   "outputs": [
    {
     "data": {
      "text/html": [
       "<div>\n",
       "<style scoped>\n",
       "    .dataframe tbody tr th:only-of-type {\n",
       "        vertical-align: middle;\n",
       "    }\n",
       "\n",
       "    .dataframe tbody tr th {\n",
       "        vertical-align: top;\n",
       "    }\n",
       "\n",
       "    .dataframe thead th {\n",
       "        text-align: right;\n",
       "    }\n",
       "</style>\n",
       "<table border=\"1\" class=\"dataframe\">\n",
       "  <thead>\n",
       "    <tr style=\"text-align: right;\">\n",
       "      <th></th>\n",
       "      <th>AKI_ResGCN</th>\n",
       "      <th>Pert_AKI_ResGCN</th>\n",
       "      <th>AKI_ResGAT</th>\n",
       "    </tr>\n",
       "  </thead>\n",
       "  <tbody>\n",
       "    <tr>\n",
       "      <th>AKI_ResGCN</th>\n",
       "      <td>30</td>\n",
       "      <td>12</td>\n",
       "      <td>14</td>\n",
       "    </tr>\n",
       "    <tr>\n",
       "      <th>Pert_AKI_ResGCN</th>\n",
       "      <td>12</td>\n",
       "      <td>30</td>\n",
       "      <td>8</td>\n",
       "    </tr>\n",
       "    <tr>\n",
       "      <th>AKI_ResGAT</th>\n",
       "      <td>14</td>\n",
       "      <td>8</td>\n",
       "      <td>30</td>\n",
       "    </tr>\n",
       "  </tbody>\n",
       "</table>\n",
       "</div>"
      ],
      "text/plain": [
       "                AKI_ResGCN Pert_AKI_ResGCN AKI_ResGAT\n",
       "AKI_ResGCN              30              12         14\n",
       "Pert_AKI_ResGCN         12              30          8\n",
       "AKI_ResGAT              14               8         30"
      ]
     },
     "execution_count": 101,
     "metadata": {},
     "output_type": "execute_result"
    }
   ],
   "source": [
    "##\n",
    "# AKI data / proteins\n",
    "##\n",
    "\n",
    "AKI_features = [Features_AKI_ResGCN, Features_Pert_AKI_ResGCN, Features_AKI_ResGAT]\n",
    "names = ['AKI_ResGCN', 'Pert_AKI_ResGCN', 'AKI_ResGAT']\n",
    "overlap_matrix(AKI_features, names, True, 30)"
   ]
  },
  {
   "cell_type": "code",
   "execution_count": 102,
   "metadata": {},
   "outputs": [
    {
     "data": {
      "text/html": [
       "<div>\n",
       "<style scoped>\n",
       "    .dataframe tbody tr th:only-of-type {\n",
       "        vertical-align: middle;\n",
       "    }\n",
       "\n",
       "    .dataframe tbody tr th {\n",
       "        vertical-align: top;\n",
       "    }\n",
       "\n",
       "    .dataframe thead th {\n",
       "        text-align: right;\n",
       "    }\n",
       "</style>\n",
       "<table border=\"1\" class=\"dataframe\">\n",
       "  <thead>\n",
       "    <tr style=\"text-align: right;\">\n",
       "      <th></th>\n",
       "      <th>AKI_ResGCN</th>\n",
       "      <th>Pert_AKI_ResGCN</th>\n",
       "      <th>AKI_ResGAT</th>\n",
       "    </tr>\n",
       "  </thead>\n",
       "  <tbody>\n",
       "    <tr>\n",
       "      <th>AKI_ResGCN</th>\n",
       "      <td>30</td>\n",
       "      <td>6</td>\n",
       "      <td>24</td>\n",
       "    </tr>\n",
       "    <tr>\n",
       "      <th>Pert_AKI_ResGCN</th>\n",
       "      <td>6</td>\n",
       "      <td>30</td>\n",
       "      <td>5</td>\n",
       "    </tr>\n",
       "    <tr>\n",
       "      <th>AKI_ResGAT</th>\n",
       "      <td>24</td>\n",
       "      <td>5</td>\n",
       "      <td>30</td>\n",
       "    </tr>\n",
       "  </tbody>\n",
       "</table>\n",
       "</div>"
      ],
      "text/plain": [
       "                AKI_ResGCN Pert_AKI_ResGCN AKI_ResGAT\n",
       "AKI_ResGCN              30               6         24\n",
       "Pert_AKI_ResGCN          6              30          5\n",
       "AKI_ResGAT              24               5         30"
      ]
     },
     "execution_count": 102,
     "metadata": {},
     "output_type": "execute_result"
    }
   ],
   "source": [
    "##\n",
    "# AKI data / pathways\n",
    "##\n",
    "\n",
    "AKI_pathways = [Pathways_AKI_ResGCN, Pathways_Pert_AKI_ResGCN, Pathways_AKI_ResGAT]\n",
    "names = ['AKI_ResGCN', 'Pert_AKI_ResGCN', 'AKI_ResGAT']\n",
    "overlap_matrix(AKI_pathways, names, False, 30)"
   ]
  },
  {
   "cell_type": "code",
   "execution_count": 106,
   "metadata": {},
   "outputs": [
    {
     "data": {
      "text/html": [
       "<div>\n",
       "<style scoped>\n",
       "    .dataframe tbody tr th:only-of-type {\n",
       "        vertical-align: middle;\n",
       "    }\n",
       "\n",
       "    .dataframe tbody tr th {\n",
       "        vertical-align: top;\n",
       "    }\n",
       "\n",
       "    .dataframe thead th {\n",
       "        text-align: right;\n",
       "    }\n",
       "</style>\n",
       "<table border=\"1\" class=\"dataframe\">\n",
       "  <thead>\n",
       "    <tr style=\"text-align: right;\">\n",
       "      <th></th>\n",
       "      <th>Covid_ResGCN</th>\n",
       "      <th>Pert_Covid_ResGCN</th>\n",
       "      <th>Covid_ResGAT</th>\n",
       "    </tr>\n",
       "  </thead>\n",
       "  <tbody>\n",
       "    <tr>\n",
       "      <th>Covid_ResGCN</th>\n",
       "      <td>30</td>\n",
       "      <td>17</td>\n",
       "      <td>16</td>\n",
       "    </tr>\n",
       "    <tr>\n",
       "      <th>Pert_Covid_ResGCN</th>\n",
       "      <td>17</td>\n",
       "      <td>30</td>\n",
       "      <td>19</td>\n",
       "    </tr>\n",
       "    <tr>\n",
       "      <th>Covid_ResGAT</th>\n",
       "      <td>16</td>\n",
       "      <td>19</td>\n",
       "      <td>30</td>\n",
       "    </tr>\n",
       "  </tbody>\n",
       "</table>\n",
       "</div>"
      ],
      "text/plain": [
       "                  Covid_ResGCN Pert_Covid_ResGCN Covid_ResGAT\n",
       "Covid_ResGCN                30                17           16\n",
       "Pert_Covid_ResGCN           17                30           19\n",
       "Covid_ResGAT                16                19           30"
      ]
     },
     "execution_count": 106,
     "metadata": {},
     "output_type": "execute_result"
    }
   ],
   "source": [
    "##\n",
    "# Covid data / proteins\n",
    "##\n",
    "\n",
    "Covid_features = [Features_Covid_ResGCN, Features_Pert_Covid_ResGCN, Features_Covid_ResGAT]\n",
    "names = ['Covid_ResGCN', 'Pert_Covid_ResGCN', 'Covid_ResGAT']\n",
    "overlap_matrix(Covid_features, names, True, 30)"
   ]
  },
  {
   "cell_type": "code",
   "execution_count": null,
   "metadata": {},
   "outputs": [],
   "source": [
    "##\n",
    "# Covid data / pathways\n",
    "##\n",
    "\n",
    "Covid_pathways = [Pathways_Covid_ResGCN, Pathways_Pert_Covid_ResGCN, Pathways_Covid_ResGAT]\n",
    "names = ['Covid_ResGCN', 'Covid_AKI_ResGCN', 'Covid_ResGAT']\n",
    "overlap_matrix(AKI_pathways, names, False, 30)"
   ]
  },
  {
   "attachments": {},
   "cell_type": "markdown",
   "metadata": {},
   "source": [
    "## 2. GNN versus BINN"
   ]
  },
  {
   "cell_type": "markdown",
   "metadata": {},
   "source": []
  }
 ],
 "metadata": {
  "kernelspec": {
   "display_name": "base",
   "language": "python",
   "name": "python3"
  },
  "language_info": {
   "codemirror_mode": {
    "name": "ipython",
    "version": 3
   },
   "file_extension": ".py",
   "mimetype": "text/x-python",
   "name": "python",
   "nbconvert_exporter": "python",
   "pygments_lexer": "ipython3",
   "version": "3.9.18"
  },
  "orig_nbformat": 4
 },
 "nbformat": 4,
 "nbformat_minor": 2
}
