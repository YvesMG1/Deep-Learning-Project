{
 "cells": [
  {
   "cell_type": "code",
   "execution_count": 110,
   "metadata": {},
   "outputs": [],
   "source": [
    "from cust_functions.explain_helper import *\n",
    "import pandas as pd "
   ]
  },
  {
   "cell_type": "code",
   "execution_count": 111,
   "metadata": {},
   "outputs": [],
   "source": [
    "##\n",
    "# Two little functions needed to compute the number of shared important proteins/pathways\n",
    "##\n",
    "\n",
    "def common_features_nodes(df1 : pd.DataFrame, df2 : pd.DataFrame, protein : bool, out_of_top: int):\n",
    "\n",
    "    if protein:\n",
    "        protein_or_pathway = 'Protein'\n",
    "    else: \n",
    "        protein_or_pathway = 'Pathway'\n",
    "\n",
    "    merged_df = pd.merge(df1.head(out_of_top), df2.head(out_of_top), on=protein_or_pathway, how='inner')\n",
    "\n",
    "    return merged_df"
   ]
  },
  {
   "cell_type": "code",
   "execution_count": 112,
   "metadata": {},
   "outputs": [],
   "source": [
    "def overlap_matrix(list_of_scores : list, list_of_names : list, protein: bool, out_of_top: int):\n",
    "    Pairwise_matrix = pd.DataFrame(index=list_of_names, columns=list_of_names)\n",
    "\n",
    "    for i, df1 in enumerate(list_of_scores):\n",
    "        for j, df2 in enumerate(list_of_scores):\n",
    "            Pairwise_matrix.iloc[i,j] = len(common_features_nodes(df1, df2, protein, out_of_top))\n",
    "\n",
    "    return(Pairwise_matrix)"
   ]
  },
  {
   "attachments": {},
   "cell_type": "markdown",
   "metadata": {},
   "source": [
    "## 1. Import data"
   ]
  },
  {
   "cell_type": "code",
   "execution_count": 113,
   "metadata": {},
   "outputs": [],
   "source": [
    "##\n",
    "# GNNs: Create aggregate importance scores from the five models generated during Cross Validation \n",
    "##\n",
    "\n",
    "# ResGCN on AKI data\n",
    "Features_AKI_ResGCN = create_avg_sd_df('./explanations/AKI_ResGCN.pkl', True, True)\n",
    "Pathways_AKI_ResGCN = create_avg_sd_df('./explanations/AKI_ResGCN.pkl', False, True)\n",
    "Features_Pert_AKI_ResGCN = create_avg_sd_df('./explanations/Pert_AKI_ResGCN.pkl', True, True)\n",
    "Pathways_Pert_AKI_ResGCN = create_avg_sd_df('./explanations/Pert_AKI_ResGCN.pkl', False, True)\n",
    "\n",
    "# ResGCN on Covid data \n",
    "Features_Covid_ResGCN = create_avg_sd_df('./explanations/Covid_ResGCN.pkl', True, True)\n",
    "Pathways_Covid_ResGCN = create_avg_sd_df('./explanations/Covid_ResGCN.pkl', False, True)\n",
    "Features_Pert_Covid_ResGCN = create_avg_sd_df('./explanations/Pert_Covid_ResGCN.pkl', True, True)\n",
    "Pathways_Pert_Covid_ResGCN = create_avg_sd_df('./explanations/Pert_Covid_ResGCN.pkl', False, True)\n",
    "\n",
    "# ResGAT on AKI data\n",
    "Features_AKI_ResGAT = create_avg_sd_df('./explanations/AKI_ResGAT.pkl', True, True)\n",
    "Pathways_AKI_ResGAT = create_avg_sd_df('./explanations/AKI_ResGAT.pkl', False, True)\n",
    "\n",
    "# ResGAT on Covid data\n",
    "Features_Covid_ResGAT = create_avg_sd_df('./explanations/Covid_ResGAT.pkl', True, True)\n",
    "Pathways_Covid_ResGAT = create_avg_sd_df('./explanations/Covid_ResGAT.pkl', False, True)"
   ]
  },
  {
   "cell_type": "code",
   "execution_count": null,
   "metadata": {},
   "outputs": [],
   "source": [
    "##\n",
    "# Import protein/pathway importance from the BINN model\n",
    "##\n",
    "\n",
    "Features_AKI_BINN = pd.read_csv('./BINN_Explanations/top_30_proteins_binn_aki.csv')\n",
    "Pathways_AKI_BINN = pd.read_csv('./BINN_Explanations/top_30_pathways_binn_aki.csv')\n",
    "Features_Covid_BINN = pd.read_csv('./BINN_Explanations/top_30_proteins_binn_covid.csv')\n",
    "Pathways_Covid_BINN = pd.read_csv('./BINN_Explanations/top_30_pathways_binn_covid.csv')\n",
    "\n",
    "Features_AKI_BINN.rename(columns={'source': 'Protein'}, inplace=True)\n",
    "Pathways_AKI_BINN.rename(columns={'source': 'Pathway'}, inplace=True)\n",
    "Features_Covid_BINN.rename(columns={'source': 'Protein'}, inplace=True)\n",
    "Pathways_Covid_BINN.rename(columns={'source': 'Pathway'}, inplace=True)"
   ]
  },
  {
   "cell_type": "code",
   "execution_count": null,
   "metadata": {},
   "outputs": [],
   "source": [
    "##\n",
    "# Import protein importance from the Random Forest and AdaBoost model\n",
    "##\n"
   ]
  },
  {
   "attachments": {},
   "cell_type": "markdown",
   "metadata": {},
   "source": [
    "## 2. Compute the common proteins / pathways"
   ]
  },
  {
   "cell_type": "code",
   "execution_count": 129,
   "metadata": {},
   "outputs": [
    {
     "data": {
      "text/html": [
       "<div>\n",
       "<style scoped>\n",
       "    .dataframe tbody tr th:only-of-type {\n",
       "        vertical-align: middle;\n",
       "    }\n",
       "\n",
       "    .dataframe tbody tr th {\n",
       "        vertical-align: top;\n",
       "    }\n",
       "\n",
       "    .dataframe thead th {\n",
       "        text-align: right;\n",
       "    }\n",
       "</style>\n",
       "<table border=\"1\" class=\"dataframe\">\n",
       "  <thead>\n",
       "    <tr style=\"text-align: right;\">\n",
       "      <th></th>\n",
       "      <th>AKI_ResGCN</th>\n",
       "      <th>Pert_AKI_ResGCN</th>\n",
       "      <th>AKI_ResGAT</th>\n",
       "      <th>AKI_BINN</th>\n",
       "    </tr>\n",
       "  </thead>\n",
       "  <tbody>\n",
       "    <tr>\n",
       "      <th>AKI_ResGCN</th>\n",
       "      <td>30</td>\n",
       "      <td>12</td>\n",
       "      <td>14</td>\n",
       "      <td>3</td>\n",
       "    </tr>\n",
       "    <tr>\n",
       "      <th>Pert_AKI_ResGCN</th>\n",
       "      <td>12</td>\n",
       "      <td>30</td>\n",
       "      <td>8</td>\n",
       "      <td>5</td>\n",
       "    </tr>\n",
       "    <tr>\n",
       "      <th>AKI_ResGAT</th>\n",
       "      <td>14</td>\n",
       "      <td>8</td>\n",
       "      <td>30</td>\n",
       "      <td>5</td>\n",
       "    </tr>\n",
       "    <tr>\n",
       "      <th>AKI_BINN</th>\n",
       "      <td>3</td>\n",
       "      <td>5</td>\n",
       "      <td>5</td>\n",
       "      <td>30</td>\n",
       "    </tr>\n",
       "  </tbody>\n",
       "</table>\n",
       "</div>"
      ],
      "text/plain": [
       "                AKI_ResGCN Pert_AKI_ResGCN AKI_ResGAT AKI_BINN\n",
       "AKI_ResGCN              30              12         14        3\n",
       "Pert_AKI_ResGCN         12              30          8        5\n",
       "AKI_ResGAT              14               8         30        5\n",
       "AKI_BINN                 3               5          5       30"
      ]
     },
     "execution_count": 129,
     "metadata": {},
     "output_type": "execute_result"
    }
   ],
   "source": [
    "##\n",
    "# AKI data / proteins\n",
    "##\n",
    "\n",
    "AKI_features = [Features_AKI_ResGCN, Features_Pert_AKI_ResGCN, Features_AKI_ResGAT, Features_AKI_BINN]\n",
    "names = ['AKI_ResGCN', 'Pert_AKI_ResGCN', 'AKI_ResGAT', 'AKI_BINN']\n",
    "overlap_matrix(AKI_features, names, True, 30)"
   ]
  },
  {
   "cell_type": "code",
   "execution_count": 130,
   "metadata": {},
   "outputs": [
    {
     "data": {
      "text/html": [
       "<div>\n",
       "<style scoped>\n",
       "    .dataframe tbody tr th:only-of-type {\n",
       "        vertical-align: middle;\n",
       "    }\n",
       "\n",
       "    .dataframe tbody tr th {\n",
       "        vertical-align: top;\n",
       "    }\n",
       "\n",
       "    .dataframe thead th {\n",
       "        text-align: right;\n",
       "    }\n",
       "</style>\n",
       "<table border=\"1\" class=\"dataframe\">\n",
       "  <thead>\n",
       "    <tr style=\"text-align: right;\">\n",
       "      <th></th>\n",
       "      <th>AKI_ResGCN</th>\n",
       "      <th>Pert_AKI_ResGCN</th>\n",
       "      <th>AKI_ResGAT</th>\n",
       "      <th>AKI_BINN</th>\n",
       "    </tr>\n",
       "  </thead>\n",
       "  <tbody>\n",
       "    <tr>\n",
       "      <th>AKI_ResGCN</th>\n",
       "      <td>30</td>\n",
       "      <td>6</td>\n",
       "      <td>24</td>\n",
       "      <td>6</td>\n",
       "    </tr>\n",
       "    <tr>\n",
       "      <th>Pert_AKI_ResGCN</th>\n",
       "      <td>6</td>\n",
       "      <td>30</td>\n",
       "      <td>5</td>\n",
       "      <td>2</td>\n",
       "    </tr>\n",
       "    <tr>\n",
       "      <th>AKI_ResGAT</th>\n",
       "      <td>24</td>\n",
       "      <td>5</td>\n",
       "      <td>30</td>\n",
       "      <td>6</td>\n",
       "    </tr>\n",
       "    <tr>\n",
       "      <th>AKI_BINN</th>\n",
       "      <td>6</td>\n",
       "      <td>2</td>\n",
       "      <td>6</td>\n",
       "      <td>32</td>\n",
       "    </tr>\n",
       "  </tbody>\n",
       "</table>\n",
       "</div>"
      ],
      "text/plain": [
       "                AKI_ResGCN Pert_AKI_ResGCN AKI_ResGAT AKI_BINN\n",
       "AKI_ResGCN              30               6         24        6\n",
       "Pert_AKI_ResGCN          6              30          5        2\n",
       "AKI_ResGAT              24               5         30        6\n",
       "AKI_BINN                 6               2          6       32"
      ]
     },
     "execution_count": 130,
     "metadata": {},
     "output_type": "execute_result"
    }
   ],
   "source": [
    "##\n",
    "# AKI data / pathways\n",
    "##\n",
    "\n",
    "AKI_pathways = [Pathways_AKI_ResGCN, Pathways_Pert_AKI_ResGCN, Pathways_AKI_ResGAT, Pathways_AKI_BINN]\n",
    "names = ['AKI_ResGCN', 'Pert_AKI_ResGCN', 'AKI_ResGAT', 'AKI_BINN']\n",
    "overlap_matrix(AKI_pathways, names, False, 30)"
   ]
  },
  {
   "cell_type": "code",
   "execution_count": 131,
   "metadata": {},
   "outputs": [
    {
     "data": {
      "text/html": [
       "<div>\n",
       "<style scoped>\n",
       "    .dataframe tbody tr th:only-of-type {\n",
       "        vertical-align: middle;\n",
       "    }\n",
       "\n",
       "    .dataframe tbody tr th {\n",
       "        vertical-align: top;\n",
       "    }\n",
       "\n",
       "    .dataframe thead th {\n",
       "        text-align: right;\n",
       "    }\n",
       "</style>\n",
       "<table border=\"1\" class=\"dataframe\">\n",
       "  <thead>\n",
       "    <tr style=\"text-align: right;\">\n",
       "      <th></th>\n",
       "      <th>Covid_ResGCN</th>\n",
       "      <th>Pert_Covid_ResGCN</th>\n",
       "      <th>Covid_ResGAT</th>\n",
       "      <th>Covid_BINN</th>\n",
       "    </tr>\n",
       "  </thead>\n",
       "  <tbody>\n",
       "    <tr>\n",
       "      <th>Covid_ResGCN</th>\n",
       "      <td>30</td>\n",
       "      <td>17</td>\n",
       "      <td>16</td>\n",
       "      <td>13</td>\n",
       "    </tr>\n",
       "    <tr>\n",
       "      <th>Pert_Covid_ResGCN</th>\n",
       "      <td>17</td>\n",
       "      <td>30</td>\n",
       "      <td>19</td>\n",
       "      <td>12</td>\n",
       "    </tr>\n",
       "    <tr>\n",
       "      <th>Covid_ResGAT</th>\n",
       "      <td>16</td>\n",
       "      <td>19</td>\n",
       "      <td>30</td>\n",
       "      <td>12</td>\n",
       "    </tr>\n",
       "    <tr>\n",
       "      <th>Covid_BINN</th>\n",
       "      <td>13</td>\n",
       "      <td>12</td>\n",
       "      <td>12</td>\n",
       "      <td>30</td>\n",
       "    </tr>\n",
       "  </tbody>\n",
       "</table>\n",
       "</div>"
      ],
      "text/plain": [
       "                  Covid_ResGCN Pert_Covid_ResGCN Covid_ResGAT Covid_BINN\n",
       "Covid_ResGCN                30                17           16         13\n",
       "Pert_Covid_ResGCN           17                30           19         12\n",
       "Covid_ResGAT                16                19           30         12\n",
       "Covid_BINN                  13                12           12         30"
      ]
     },
     "execution_count": 131,
     "metadata": {},
     "output_type": "execute_result"
    }
   ],
   "source": [
    "##\n",
    "# Covid data / proteins\n",
    "##\n",
    "\n",
    "Covid_features = [Features_Covid_ResGCN, Features_Pert_Covid_ResGCN, Features_Covid_ResGAT, Features_Covid_BINN]\n",
    "names = ['Covid_ResGCN', 'Pert_Covid_ResGCN', 'Covid_ResGAT', 'Covid_BINN']\n",
    "overlap_matrix(Covid_features, names, True, 30)"
   ]
  },
  {
   "cell_type": "code",
   "execution_count": 132,
   "metadata": {},
   "outputs": [
    {
     "data": {
      "text/html": [
       "<div>\n",
       "<style scoped>\n",
       "    .dataframe tbody tr th:only-of-type {\n",
       "        vertical-align: middle;\n",
       "    }\n",
       "\n",
       "    .dataframe tbody tr th {\n",
       "        vertical-align: top;\n",
       "    }\n",
       "\n",
       "    .dataframe thead th {\n",
       "        text-align: right;\n",
       "    }\n",
       "</style>\n",
       "<table border=\"1\" class=\"dataframe\">\n",
       "  <thead>\n",
       "    <tr style=\"text-align: right;\">\n",
       "      <th></th>\n",
       "      <th>Covid_ResGCN</th>\n",
       "      <th>Pert_Covid_ResGCN</th>\n",
       "      <th>Covid_ResGAT</th>\n",
       "      <th>Covid_BINN</th>\n",
       "    </tr>\n",
       "  </thead>\n",
       "  <tbody>\n",
       "    <tr>\n",
       "      <th>Covid_ResGCN</th>\n",
       "      <td>30</td>\n",
       "      <td>5</td>\n",
       "      <td>26</td>\n",
       "      <td>6</td>\n",
       "    </tr>\n",
       "    <tr>\n",
       "      <th>Pert_Covid_ResGCN</th>\n",
       "      <td>5</td>\n",
       "      <td>30</td>\n",
       "      <td>4</td>\n",
       "      <td>2</td>\n",
       "    </tr>\n",
       "    <tr>\n",
       "      <th>Covid_ResGAT</th>\n",
       "      <td>26</td>\n",
       "      <td>4</td>\n",
       "      <td>30</td>\n",
       "      <td>6</td>\n",
       "    </tr>\n",
       "    <tr>\n",
       "      <th>Covid_BINN</th>\n",
       "      <td>6</td>\n",
       "      <td>2</td>\n",
       "      <td>6</td>\n",
       "      <td>30</td>\n",
       "    </tr>\n",
       "  </tbody>\n",
       "</table>\n",
       "</div>"
      ],
      "text/plain": [
       "                  Covid_ResGCN Pert_Covid_ResGCN Covid_ResGAT Covid_BINN\n",
       "Covid_ResGCN                30                 5           26          6\n",
       "Pert_Covid_ResGCN            5                30            4          2\n",
       "Covid_ResGAT                26                 4           30          6\n",
       "Covid_BINN                   6                 2            6         30"
      ]
     },
     "execution_count": 132,
     "metadata": {},
     "output_type": "execute_result"
    }
   ],
   "source": [
    "##\n",
    "# Covid data / pathways\n",
    "##\n",
    "\n",
    "Covid_pathways = [Pathways_Covid_ResGCN, Pathways_Pert_Covid_ResGCN, Pathways_Covid_ResGAT, Pathways_Covid_BINN]\n",
    "names = ['Covid_ResGCN', 'Pert_Covid_ResGCN', 'Covid_ResGAT', 'Covid_BINN']\n",
    "overlap_matrix(Covid_pathways, names, False, 30)"
   ]
  },
  {
   "cell_type": "markdown",
   "metadata": {},
   "source": []
  }
 ],
 "metadata": {
  "kernelspec": {
   "display_name": "base",
   "language": "python",
   "name": "python3"
  },
  "language_info": {
   "codemirror_mode": {
    "name": "ipython",
    "version": 3
   },
   "file_extension": ".py",
   "mimetype": "text/x-python",
   "name": "python",
   "nbconvert_exporter": "python",
   "pygments_lexer": "ipython3",
   "version": "3.9.18"
  },
  "orig_nbformat": 4
 },
 "nbformat": 4,
 "nbformat_minor": 2
}
