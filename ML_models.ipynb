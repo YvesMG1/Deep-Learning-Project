{
 "cells": [
  {
   "cell_type": "code",
   "execution_count": 2,
   "metadata": {},
   "outputs": [],
   "source": [
    "import pickle\n",
    "import numpy as np\n",
    "import pandas as pd\n",
    "import matplotlib.pyplot as plt\n",
    "\n",
    "# import sklearn\n",
    "from sklearn.linear_model import LogisticRegression\n",
    "from sklearn.metrics import make_scorer, accuracy_score, precision_score, recall_score, f1_score, roc_auc_score, confusion_matrix\n",
    "from sklearn.ensemble import RandomForestClassifier, AdaBoostClassifier\n",
    "from sklearn.svm import SVC\n",
    "from sklearn.neighbors import KNeighborsClassifier\n",
    "from sklearn.dummy import DummyClassifier\n",
    "from sklearn.model_selection import train_test_split, GridSearchCV\n",
    "\n",
    "# cust_functions folder\n",
    "from cust_functions.training import *\n",
    "from cust_functions.graph_networks import *\n",
    "from cust_functions.graph_creation import *\n",
    "\n",
    "# Set random seed\n",
    "SEED = 42\n",
    "set_seed(SEED)\n"
   ]
  },
  {
   "cell_type": "markdown",
   "metadata": {},
   "source": [
    "## 1.0 AKI Data"
   ]
  },
  {
   "cell_type": "code",
   "execution_count": 2,
   "metadata": {},
   "outputs": [],
   "source": [
    "# Load data\n",
    "input_data_qm = pd.read_csv(\"aki_data/test_qm.csv\")\n",
    "design_matrix = pd.read_csv(\"aki_data/design_matrix.tsv\", sep=\"\\t\")\n",
    "\n",
    "# Preprocess data\n",
    "input_data_preprocessed = input_data_qm.fillna(0)\n",
    "input_data = input_data_preprocessed.drop(['Protein'], axis=1)\n",
    "design_matrix = design_matrix.replace(1, 0)\n",
    "design_matrix = design_matrix.replace(2, 1)\n",
    "\n",
    "# Split data into train and test\n",
    "X_test = input_data.loc[:, ~input_data.columns.str.contains('M2012')].transpose()\n",
    "X_train = input_data.loc[:, input_data.columns.str.contains('M2012')].transpose()\n",
    "y_test = design_matrix['group'][~design_matrix['sample'].str.contains('M2012')]\n",
    "y_train = design_matrix['group'][design_matrix['sample'].str.contains('M2012')]\n"
   ]
  },
  {
   "cell_type": "markdown",
   "metadata": {},
   "source": [
    "### 1.1 Cross Validation"
   ]
  },
  {
   "cell_type": "code",
   "execution_count": null,
   "metadata": {},
   "outputs": [],
   "source": [
    "models = [DummyClassifier(random_state = SEED),\n",
    "          SVC(random_state = SEED, probability = True),\n",
    "          LogisticRegression(random_state = SEED, max_iter = 10000),\n",
    "          KNeighborsClassifier(),\n",
    "          RandomForestClassifier(random_state = SEED),\n",
    "          AdaBoostClassifier(random_state = SEED),]\n",
    "\n",
    "grid = {\"Dummy\": {\"strategy\": [\"most_frequent\"]},\n",
    "        \"SVC\": {\"C\": [0.1, 1, 2], \"kernel\": [\"linear\", \"rbf\", \"poly\"]},\n",
    "        \"LR\": {\"C\": [0.01, 0.1, 0.5, 1], \"penalty\": [\"l1\", \"l2\", \"elasticnet\", \"none\"]},\n",
    "        \"KNN\": {\"n_neighbors\": [1, 5, 10, 15], \"weights\": [\"uniform\", \"distance\"]},\n",
    "        \"RF\": {\"n_estimators\": [50, 100, 150]},\n",
    "        \"AdaBoost\": {\"n_estimators\": [50, 100, 150]}}\n",
    "\n",
    "scoring = {\n",
    "    'roc_auc': 'roc_auc',\n",
    "    'accuracy': make_scorer(accuracy_score),\n",
    "    'f1': make_scorer(f1_score),\n",
    "    'f1_macro': make_scorer(f1_score, average='macro'),\n",
    "    'recall': make_scorer(recall_score),\n",
    "    'precision': make_scorer(precision_score)\n",
    "}\n",
    "\n",
    "best_models, best_params = gridsearch(models, grid, X_train, y_train, scoring, refit = 'roc_auc')\n"
   ]
  },
  {
   "cell_type": "code",
   "execution_count": 4,
   "metadata": {},
   "outputs": [
    {
     "name": "stdout",
     "output_type": "stream",
     "text": [
      "\n",
      "Best models based on roc_auc:\n",
      "      Model  Best Score                                 Best Params\n",
      "4        RF    0.954688                       {'n_estimators': 150}\n",
      "5  AdaBoost    0.909498                       {'n_estimators': 150}\n",
      "1       SVC    0.820037                  {'C': 1, 'kernel': 'poly'}\n",
      "2        LR    0.810723              {'C': 0.01, 'penalty': 'none'}\n",
      "3       KNN    0.750797  {'n_neighbors': 10, 'weights': 'distance'}\n",
      "0     Dummy    0.500000               {'strategy': 'most_frequent'}\n",
      "\n",
      "Best models based on accuracy:\n",
      "      Model  Best Score                                 Best Params\n",
      "5  AdaBoost    0.759360                       {'n_estimators': 150}\n",
      "4        RF    0.751232                       {'n_estimators': 150}\n",
      "3       KNN    0.730049  {'n_neighbors': 10, 'weights': 'distance'}\n",
      "1       SVC    0.723892                  {'C': 1, 'kernel': 'poly'}\n",
      "2        LR    0.702956              {'C': 0.01, 'penalty': 'none'}\n",
      "0     Dummy    0.574384               {'strategy': 'most_frequent'}\n",
      "\n",
      "Best models based on f1:\n",
      "      Model  Best Score                                 Best Params\n",
      "3       KNN    0.784543  {'n_neighbors': 10, 'weights': 'distance'}\n",
      "4        RF    0.759858                       {'n_estimators': 150}\n",
      "5  AdaBoost    0.743500                       {'n_estimators': 150}\n",
      "1       SVC    0.742061                  {'C': 1, 'kernel': 'poly'}\n",
      "0     Dummy    0.729644               {'strategy': 'most_frequent'}\n",
      "2        LR    0.691903              {'C': 0.01, 'penalty': 'none'}\n",
      "\n",
      "Best models based on f1_macro:\n",
      "      Model  Best Score                                 Best Params\n",
      "5  AdaBoost    0.745776                       {'n_estimators': 150}\n",
      "4        RF    0.723416                       {'n_estimators': 150}\n",
      "1       SVC    0.709354                  {'C': 1, 'kernel': 'poly'}\n",
      "3       KNN    0.700072  {'n_neighbors': 10, 'weights': 'distance'}\n",
      "2        LR    0.688793              {'C': 0.01, 'penalty': 'none'}\n",
      "0     Dummy    0.364822               {'strategy': 'most_frequent'}\n",
      "\n",
      "Best models based on recall:\n",
      "      Model  Best Score                                 Best Params\n",
      "0     Dummy    1.000000               {'strategy': 'most_frequent'}\n",
      "3       KNN    0.854412  {'n_neighbors': 10, 'weights': 'distance'}\n",
      "4        RF    0.778676                       {'n_estimators': 150}\n",
      "1       SVC    0.744853                  {'C': 1, 'kernel': 'poly'}\n",
      "5  AdaBoost    0.731618                       {'n_estimators': 150}\n",
      "2        LR    0.683824              {'C': 0.01, 'penalty': 'none'}\n",
      "\n",
      "Best models based on precision:\n",
      "      Model  Best Score                                 Best Params\n",
      "5  AdaBoost    0.875556                       {'n_estimators': 150}\n",
      "4        RF    0.847464                       {'n_estimators': 150}\n",
      "1       SVC    0.799803                  {'C': 1, 'kernel': 'poly'}\n",
      "2        LR    0.794883              {'C': 0.01, 'penalty': 'none'}\n",
      "3       KNN    0.754699  {'n_neighbors': 10, 'weights': 'distance'}\n",
      "0     Dummy    0.574384               {'strategy': 'most_frequent'}\n"
     ]
    }
   ],
   "source": [
    "for metric in best_models:\n",
    "    best_models[metric].sort_values(\"Best Score\", ascending=False, inplace=True)\n",
    "    print(f\"\\nBest models based on {metric}:\\n{best_models[metric]}\")"
   ]
  },
  {
   "cell_type": "markdown",
   "metadata": {},
   "source": [
    "### 1.2 Testing"
   ]
  },
  {
   "cell_type": "code",
   "execution_count": 6,
   "metadata": {},
   "outputs": [
    {
     "name": "stdout",
     "output_type": "stream",
     "text": [
      "Predicting with model Dummy\n",
      "DummyClassifier(random_state=42, strategy='most_frequent')\n",
      "Recall pheno1: 1.000000\n",
      "Recall pheno0: 0.000000\n",
      "Precision pheno1: 0.750000\n",
      "Precision pheno0: 0.000000\n",
      "F1 pheno1: 0.857143\n",
      "F1 pheno0: nan\n",
      "Accuracy: 0.750000\n",
      "AUC: 0.500000\n",
      "--------------------------------------\n",
      "Predicting with model SVC\n",
      "SVC(C=1, kernel='poly', probability=True, random_state=42)\n",
      "Recall pheno1: 0.976190\n",
      "Recall pheno0: 1.000000\n",
      "Precision pheno1: 1.000000\n",
      "Precision pheno0: 0.933333\n",
      "F1 pheno1: 0.987952\n",
      "F1 pheno0: 0.965517\n",
      "Accuracy: 0.982143\n",
      "AUC: 0.996599\n",
      "--------------------------------------\n",
      "Predicting with model LR\n",
      "LogisticRegression(C=0.01, max_iter=10000, penalty='none', random_state=42)\n",
      "Recall pheno1: 0.952381\n",
      "Recall pheno0: 0.857143\n",
      "Precision pheno1: 0.952381\n",
      "Precision pheno0: 0.857143\n",
      "F1 pheno1: 0.952381\n",
      "F1 pheno0: 0.857143\n",
      "Accuracy: 0.928571\n",
      "AUC: 0.984694\n",
      "--------------------------------------\n",
      "Predicting with model KNN\n",
      "KNeighborsClassifier(n_neighbors=10, weights='distance')\n",
      "Recall pheno1: 0.952381\n",
      "Recall pheno0: 0.928571\n",
      "Precision pheno1: 0.975610\n",
      "Precision pheno0: 0.866667\n",
      "F1 pheno1: 0.963855\n",
      "F1 pheno0: 0.896552\n",
      "Accuracy: 0.946429\n",
      "AUC: 0.986395\n",
      "--------------------------------------\n",
      "Predicting with model RF\n",
      "RandomForestClassifier(n_estimators=150, random_state=42)\n"
     ]
    },
    {
     "name": "stderr",
     "output_type": "stream",
     "text": [
      "/scratch/yves/Deep-Learning-Project/cust_functions/training.py:376: RuntimeWarning: invalid value encountered in scalar divide\n",
      "  f1_pheno0 = 2 * precision_pheno0 * recall_pheno0 / (precision_pheno0 + recall_pheno0)\n",
      "/scratch/yves/miniconda/envs/pytorch_cuda/lib/python3.8/site-packages/sklearn/linear_model/_logistic.py:1182: FutureWarning: `penalty='none'`has been deprecated in 1.2 and will be removed in 1.4. To keep the past behaviour, set `penalty=None`.\n",
      "  warnings.warn(\n",
      "/scratch/yves/miniconda/envs/pytorch_cuda/lib/python3.8/site-packages/sklearn/linear_model/_logistic.py:1192: UserWarning: Setting penalty=None will ignore the C and l1_ratio parameters\n",
      "  warnings.warn(\n"
     ]
    },
    {
     "name": "stdout",
     "output_type": "stream",
     "text": [
      "Recall pheno1: 1.000000\n",
      "Recall pheno0: 0.928571\n",
      "Precision pheno1: 0.976744\n",
      "Precision pheno0: 1.000000\n",
      "F1 pheno1: 0.988235\n",
      "F1 pheno0: 0.962963\n",
      "Accuracy: 0.982143\n",
      "AUC: 1.000000\n",
      "--------------------------------------\n",
      "Predicting with model AdaBoost\n",
      "AdaBoostClassifier(n_estimators=150, random_state=42)\n",
      "Recall pheno1: 0.904762\n",
      "Recall pheno0: 0.785714\n",
      "Precision pheno1: 0.926829\n",
      "Precision pheno0: 0.733333\n",
      "F1 pheno1: 0.915663\n",
      "F1 pheno0: 0.758621\n",
      "Accuracy: 0.875000\n",
      "AUC: 0.947279\n",
      "--------------------------------------\n"
     ]
    }
   ],
   "source": [
    "for model, names in zip(models, best_params.keys()):\n",
    "    print(\"Predicting with model %s\" % names)\n",
    "    # print the model params\n",
    "    model = model.set_params(**best_params[names])\n",
    "    print(model)\n",
    "    y_pred, y_pred_proba, cm = predict_ml_model(model, X_train, y_train, X_test, y_test)\n",
    "    print_ml_metrics(cm, y_test, y_pred_proba)\n",
    "    print(\"--------------------------------------\")"
   ]
  },
  {
   "cell_type": "markdown",
   "metadata": {},
   "source": [
    "## 2.0 COVID-19 Data"
   ]
  },
  {
   "cell_type": "code",
   "execution_count": 34,
   "metadata": {},
   "outputs": [],
   "source": [
    "# Load COVID data\n",
    "charite_data_X = pd.read_csv('covid_data/covid_train.tsv', sep='\\t')\n",
    "ins_data_X = pd.read_csv('covid_data/covid_test.txt', sep='\\t', index_col=0)\n",
    "charite_data_y = pd.read_csv('covid_data/covid_train_design.tsv', sep='\\t')\n",
    "ins_data_y = pd.read_csv('covid_data/covid_test_design.txt', sep='\\t', index_col=0)\n",
    "\n",
    "# Merge data\n",
    "X = pd.merge(charite_data_X, ins_data_X, on='Protein', how='inner')\n",
    "y = pd.concat([charite_data_y, ins_data_y])\n",
    "\n",
    "# Preprocess data\n",
    "X = X.fillna(0)\n",
    "y = y.replace(1, 0)\n",
    "y = y.replace(2, 1)\n",
    "\n",
    "# Reshape data\n",
    "X = X.drop(['Protein'], axis=1).transpose()\n",
    "y = y['group']\n",
    "\n",
    "# perform train test split\n",
    "X_train, X_test, y_train, y_test = train_test_split(X, y, test_size=0.1, shuffle=True, stratify=y, random_state=SEED)\n"
   ]
  },
  {
   "cell_type": "code",
   "execution_count": 42,
   "metadata": {},
   "outputs": [],
   "source": [
    "X_train = pd.read_csv('covid_data/covid_train_qm.csv', index_col=0)\n",
    "X_test = pd.read_csv('covid_data/covid_test_qm.csv', index_col=0)\n",
    "y_train = pd.read_csv('covid_data/covid_train_design_qm.csv', index_col=0)\n",
    "y_test = pd.read_csv('covid_data/covid_test_design_qm.csv', index_col=0)\n",
    "\n",
    "# Reshape data\n",
    "X_train = X_train.drop(['Protein'], axis=1).transpose()\n",
    "X_test = X_test.drop(['Protein'], axis=1).transpose()\n",
    "y_train = y_train['group']\n",
    "y_test = y_test['group']"
   ]
  },
  {
   "cell_type": "markdown",
   "metadata": {},
   "source": [
    "### 2.1 Cross Validation"
   ]
  },
  {
   "cell_type": "code",
   "execution_count": null,
   "metadata": {},
   "outputs": [],
   "source": [
    "models = [DummyClassifier(random_state = SEED),\n",
    "          SVC(random_state = SEED, probability = True),\n",
    "          LogisticRegression(random_state = SEED, max_iter = 10000),\n",
    "          KNeighborsClassifier(),\n",
    "          RandomForestClassifier(random_state = SEED),\n",
    "          AdaBoostClassifier(random_state = SEED),]\n",
    "\n",
    "grid = {\"Dummy\": {\"strategy\": [\"most_frequent\"]},\n",
    "        \"SVC\": {\"C\": [0.1, 1, 2], \"kernel\": [\"linear\", \"rbf\", \"poly\"]},\n",
    "        \"LR\": {\"C\": [0.01, 0.1, 0.5, 1], \"penalty\": [\"l1\", \"l2\", \"elasticnet\", \"none\"]},\n",
    "        \"KNN\": {\"n_neighbors\": [1, 5, 10, 15], \"weights\": [\"uniform\", \"distance\"]},\n",
    "        \"RF\": {\"n_estimators\": [50, 100, 150]},\n",
    "        \"AdaBoost\": {\"n_estimators\": [50, 100, 150]}}\n",
    "\n",
    "scoring = {\n",
    "    'roc_auc': 'roc_auc',\n",
    "    'accuracy': make_scorer(accuracy_score),\n",
    "    'f1': make_scorer(f1_score),\n",
    "    'f1_macro': make_scorer(f1_score, average='macro'),\n",
    "    'recall': make_scorer(recall_score),\n",
    "    'precision': make_scorer(precision_score)\n",
    "}\n",
    "\n",
    "best_models, best_params = gridsearch(models, grid, X_train, y_train, scoring, refit = 'roc_auc')\n"
   ]
  },
  {
   "cell_type": "code",
   "execution_count": 46,
   "metadata": {},
   "outputs": [
    {
     "name": "stdout",
     "output_type": "stream",
     "text": [
      "\n",
      "Best models based on roc_auc:\n",
      "      Model  Best Score                                 Best Params\n",
      "4        RF    0.944789                       {'n_estimators': 150}\n",
      "1       SVC    0.915440                   {'C': 2, 'kernel': 'rbf'}\n",
      "5  AdaBoost    0.909983                        {'n_estimators': 50}\n",
      "2        LR    0.907310                {'C': 0.01, 'penalty': 'l2'}\n",
      "3       KNN    0.898016  {'n_neighbors': 15, 'weights': 'distance'}\n",
      "0     Dummy    0.500000               {'strategy': 'most_frequent'}\n",
      "\n",
      "Best models based on accuracy:\n",
      "      Model  Best Score                                 Best Params\n",
      "4        RF    0.872610                       {'n_estimators': 150}\n",
      "5  AdaBoost    0.828828                        {'n_estimators': 50}\n",
      "2        LR    0.823184                {'C': 0.01, 'penalty': 'l2'}\n",
      "1       SVC    0.823145                   {'C': 2, 'kernel': 'rbf'}\n",
      "3       KNN    0.809030  {'n_neighbors': 15, 'weights': 'distance'}\n",
      "0     Dummy    0.550215               {'strategy': 'most_frequent'}\n",
      "\n",
      "Best models based on f1:\n",
      "      Model  Best Score                                 Best Params\n",
      "4        RF    0.887543                       {'n_estimators': 150}\n",
      "5  AdaBoost    0.847280                        {'n_estimators': 50}\n",
      "2        LR    0.840360                {'C': 0.01, 'penalty': 'l2'}\n",
      "1       SVC    0.839934                   {'C': 2, 'kernel': 'rbf'}\n",
      "3       KNN    0.832099  {'n_neighbors': 15, 'weights': 'distance'}\n",
      "0     Dummy    0.709852               {'strategy': 'most_frequent'}\n",
      "\n",
      "Best models based on f1_macro:\n",
      "      Model  Best Score                                 Best Params\n",
      "4        RF    0.869533                       {'n_estimators': 150}\n",
      "5  AdaBoost    0.824509                        {'n_estimators': 50}\n",
      "1       SVC    0.819621                   {'C': 2, 'kernel': 'rbf'}\n",
      "2        LR    0.819311                {'C': 0.01, 'penalty': 'l2'}\n",
      "3       KNN    0.803958  {'n_neighbors': 15, 'weights': 'distance'}\n",
      "0     Dummy    0.354926               {'strategy': 'most_frequent'}\n",
      "\n",
      "Best models based on recall:\n",
      "      Model  Best Score                                 Best Params\n",
      "0     Dummy    1.000000               {'strategy': 'most_frequent'}\n",
      "4        RF    0.904928                       {'n_estimators': 150}\n",
      "5  AdaBoost    0.863736                        {'n_estimators': 50}\n",
      "3       KNN    0.861239  {'n_neighbors': 15, 'weights': 'distance'}\n",
      "2        LR    0.851016                {'C': 0.01, 'penalty': 'l2'}\n",
      "1       SVC    0.843190                   {'C': 2, 'kernel': 'rbf'}\n",
      "\n",
      "Best models based on precision:\n",
      "      Model  Best Score                                 Best Params\n",
      "4        RF    0.876968                       {'n_estimators': 150}\n",
      "1       SVC    0.845341                   {'C': 2, 'kernel': 'rbf'}\n",
      "2        LR    0.839996                {'C': 0.01, 'penalty': 'l2'}\n",
      "5  AdaBoost    0.838755                        {'n_estimators': 50}\n",
      "3       KNN    0.810463  {'n_neighbors': 15, 'weights': 'distance'}\n",
      "0     Dummy    0.550215               {'strategy': 'most_frequent'}\n"
     ]
    }
   ],
   "source": [
    "for metric in best_models:\n",
    "    best_models[metric].sort_values(\"Best Score\", ascending=False, inplace=True)\n",
    "    print(f\"\\nBest models based on {metric}:\\n{best_models[metric]}\")"
   ]
  },
  {
   "cell_type": "markdown",
   "metadata": {},
   "source": [
    "### 2.2 Testing"
   ]
  },
  {
   "cell_type": "code",
   "execution_count": 47,
   "metadata": {},
   "outputs": [
    {
     "name": "stdout",
     "output_type": "stream",
     "text": [
      "Predicting with model Dummy\n",
      "DummyClassifier(random_state=42, strategy='most_frequent')\n",
      "Recall pheno1: 1.000000\n",
      "Recall pheno0: 0.000000\n",
      "Precision pheno1: 0.518987\n",
      "Precision pheno0: 0.000000\n",
      "F1 pheno1: 0.683333\n",
      "F1 pheno0: nan\n",
      "Accuracy: 0.518987\n",
      "AUC: 0.500000\n",
      "--------------------------------------\n",
      "Predicting with model SVC\n",
      "SVC(C=2, probability=True, random_state=42)\n",
      "Recall pheno1: 0.853659\n",
      "Recall pheno0: 0.789474\n",
      "Precision pheno1: 0.813953\n",
      "Precision pheno0: 0.833333\n",
      "F1 pheno1: 0.833333\n",
      "F1 pheno0: 0.810811\n",
      "Accuracy: 0.822785\n",
      "AUC: 0.908858\n",
      "--------------------------------------\n",
      "Predicting with model LR\n",
      "LogisticRegression(C=0.01, max_iter=10000, random_state=42)\n",
      "Recall pheno1: 0.804878\n",
      "Recall pheno0: 0.789474\n",
      "Precision pheno1: 0.804878\n",
      "Precision pheno0: 0.789474\n",
      "F1 pheno1: 0.804878\n",
      "F1 pheno0: 0.789474\n",
      "Accuracy: 0.797468\n",
      "AUC: 0.895379\n",
      "--------------------------------------\n",
      "Predicting with model KNN\n",
      "KNeighborsClassifier(n_neighbors=15, weights='distance')\n",
      "Recall pheno1: 0.853659\n",
      "Recall pheno0: 0.684211\n",
      "Precision pheno1: 0.744681\n",
      "Precision pheno0: 0.812500\n",
      "F1 pheno1: 0.795455\n",
      "F1 pheno0: 0.742857\n",
      "Accuracy: 0.772152\n",
      "AUC: 0.878049\n",
      "--------------------------------------\n",
      "Predicting with model RF\n",
      "RandomForestClassifier(n_estimators=150, random_state=42)\n"
     ]
    },
    {
     "name": "stderr",
     "output_type": "stream",
     "text": [
      "/scratch/yves/Deep-Learning-Project/cust_functions/training.py:376: RuntimeWarning: invalid value encountered in scalar divide\n",
      "  f1_pheno0 = 2 * precision_pheno0 * recall_pheno0 / (precision_pheno0 + recall_pheno0)\n"
     ]
    },
    {
     "name": "stdout",
     "output_type": "stream",
     "text": [
      "Recall pheno1: 0.829268\n",
      "Recall pheno0: 0.894737\n",
      "Precision pheno1: 0.894737\n",
      "Precision pheno0: 0.829268\n",
      "F1 pheno1: 0.860759\n",
      "F1 pheno0: 0.860759\n",
      "Accuracy: 0.860759\n",
      "AUC: 0.927792\n",
      "--------------------------------------\n",
      "Predicting with model AdaBoost\n",
      "AdaBoostClassifier(random_state=42)\n",
      "Recall pheno1: 0.780488\n",
      "Recall pheno0: 0.842105\n",
      "Precision pheno1: 0.842105\n",
      "Precision pheno0: 0.780488\n",
      "F1 pheno1: 0.810127\n",
      "F1 pheno0: 0.810127\n",
      "Accuracy: 0.810127\n",
      "AUC: 0.910783\n",
      "--------------------------------------\n"
     ]
    }
   ],
   "source": [
    "for model, names in zip(models, best_params.keys()):\n",
    "    print(\"Predicting with model %s\" % names)\n",
    "    # print the model params\n",
    "    model = model.set_params(**best_params[names])\n",
    "    print(model)\n",
    "    y_pred, y_pred_proba, cm = predict_ml_model(model, X_train, y_train, X_test, y_test)\n",
    "    print_ml_metrics(cm, y_test, y_pred_proba)\n",
    "    print(\"--------------------------------------\")"
   ]
  }
 ],
 "metadata": {
  "kernelspec": {
   "display_name": "adlg",
   "language": "python",
   "name": "python3"
  },
  "language_info": {
   "codemirror_mode": {
    "name": "ipython",
    "version": 3
   },
   "file_extension": ".py",
   "mimetype": "text/x-python",
   "name": "python",
   "nbconvert_exporter": "python",
   "pygments_lexer": "ipython3",
   "version": "3.8.18"
  }
 },
 "nbformat": 4,
 "nbformat_minor": 2
}
