{
 "cells": [
  {
   "cell_type": "code",
   "execution_count": 1,
   "metadata": {},
   "outputs": [
    {
     "name": "stdout",
     "output_type": "stream",
     "text": [
      "Intel MKL WARNING: Support of Intel(R) Streaming SIMD Extensions 4.2 (Intel(R) SSE4.2) enabled only processors has been deprecated. Intel oneAPI Math Kernel Library 2025.0 will require Intel(R) Advanced Vector Extensions (Intel(R) AVX) instructions.\n",
      "Intel MKL WARNING: Support of Intel(R) Streaming SIMD Extensions 4.2 (Intel(R) SSE4.2) enabled only processors has been deprecated. Intel oneAPI Math Kernel Library 2025.0 will require Intel(R) Advanced Vector Extensions (Intel(R) AVX) instructions.\n"
     ]
    }
   ],
   "source": [
    "import pickle\n",
    "import numpy as np\n",
    "import pandas as pd\n",
    "\n",
    "import torch\n",
    "from torch_geometric.data import Data"
   ]
  },
  {
   "cell_type": "code",
   "execution_count": 2,
   "metadata": {},
   "outputs": [],
   "source": [
    "design_matrix = pd.read_csv(\"aki_data/design_matrix.tsv\", sep=\"\\t\")"
   ]
  },
  {
   "cell_type": "code",
   "execution_count": 5,
   "metadata": {},
   "outputs": [],
   "source": [
    "def load_graph(patient_id, type):\n",
    "    if type == 1:\n",
    "        with open(f'graph_data/type1/type1_patient_graph_{patient_id}.pkl', 'rb') as f:\n",
    "            graph = pickle.load(f)\n",
    "    elif type == 2:\n",
    "        with open(f'graph_data/type2/type2_patient_graph_{patient_id}.pkl', 'rb') as f:\n",
    "            graph = pickle.load(f)\n",
    "    return graph\n",
    "\n",
    "def map_edges_to_indices(edge_list):\n",
    "    # Create a unique mapping for each node\n",
    "    unique_nodes = set([node for edge in edge_list for node in edge])\n",
    "    node_to_idx = {node: idx for idx, node in enumerate(unique_nodes)}\n",
    "\n",
    "    # Map edges to indices\n",
    "    edge_index = [[node_to_idx[edge[0]], node_to_idx[edge[1]]] for edge in edge_list]\n",
    "    return torch.tensor(edge_index, dtype=torch.long).t().contiguous()\n"
   ]
  },
  {
   "cell_type": "code",
   "execution_count": 16,
   "metadata": {},
   "outputs": [],
   "source": [
    "train_graph_data= []\n",
    "test_graph_data = []\n",
    "patient_ids = design_matrix['sample'].values\n",
    "\n",
    "for patient_id in patient_ids:\n",
    "    graph = load_graph(patient_id, type=2)  # Load the graph as before\n",
    "\n",
    "    # Convert NetworkX graph to PyTorch Geometric Data\n",
    "    edge_index = map_edges_to_indices(graph.edges)\n",
    "\n",
    "    x = torch.tensor([graph.nodes[node].get('abundance', 0) for node in graph.nodes], dtype=torch.float)\n",
    "    y = torch.tensor([design_matrix[design_matrix['sample'] == patient_id]['group'].iloc[0]], dtype=torch.long)\n",
    "    graph_data = Data(x=x, edge_index=edge_index, y=y)\n",
    "\n",
    "    if 'M2012' in patient_id:\n",
    "        train_graph_data.append(graph_data)\n",
    "    else:\n",
    "        test_graph_data.append(graph_data)"
   ]
  },
  {
   "cell_type": "code",
   "execution_count": 17,
   "metadata": {},
   "outputs": [
    {
     "data": {
      "text/plain": [
       "True"
      ]
     },
     "execution_count": 17,
     "metadata": {},
     "output_type": "execute_result"
    }
   ],
   "source": []
  }
 ],
 "metadata": {
  "kernelspec": {
   "display_name": "adlg",
   "language": "python",
   "name": "python3"
  },
  "language_info": {
   "codemirror_mode": {
    "name": "ipython",
    "version": 3
   },
   "file_extension": ".py",
   "mimetype": "text/x-python",
   "name": "python",
   "nbconvert_exporter": "python",
   "pygments_lexer": "ipython3",
   "version": "3.9.18"
  }
 },
 "nbformat": 4,
 "nbformat_minor": 2
}
